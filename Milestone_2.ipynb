{
 "cells": [
  {
   "cell_type": "code",
   "execution_count": null,
   "metadata": {
    "ExecuteTime": {
     "end_time": "2020-07-06T11:48:40.074728Z",
     "start_time": "2020-07-06T11:48:40.070922Z"
    }
   },
   "outputs": [],
   "source": [
    "import json\n",
    "import zipfile\n",
    "import requests\n",
    "import rasterio\n",
    "import numpy as np\n",
    "import urllib.request\n",
    "import shutil, glob, os\n",
    "from pathlib import Path\n",
    "from PIL import Image, ImageDraw\n",
    "import matplotlib.pyplot as pyplt\n",
    "from matplotlib.image import imsave\n",
    "\n",
    "%matplotlib inline"
   ]
  },
  {
   "cell_type": "markdown",
   "metadata": {},
   "source": [
    "## utils"
   ]
  },
  {
   "cell_type": "code",
   "execution_count": null,
   "metadata": {
    "ExecuteTime": {
     "end_time": "2020-07-06T10:58:57.252814Z",
     "start_time": "2020-07-06T10:58:57.244447Z"
    }
   },
   "outputs": [],
   "source": [
    "def make_url(root: str = \"https://tiles.maps.eox.at/wms?service=wms&request=getmap&version=1.1.1&\",\n",
    "             width: str = 'width=4096&',\n",
    "             height: str = 'height=4096&',\n",
    "             srs: str = 'srs=epsg:4326',\n",
    "             layers: list = None,\n",
    "             bbox: str = None,\n",
    "            ) -> str:\n",
    "    return root+layers+bbox+width+height+srs\n",
    "\n",
    "\n",
    "def download_all_layers(root: str = \"https://tiles.maps.eox.at/wms?service=wms&request=getmap&version=1.1.1&\",\n",
    "                        width: str = 'width=4096&',\n",
    "                        height: str = 'height=4096&',\n",
    "                        srs: str = 'srs=epsg:4326',\n",
    "                        layers: list = None,\n",
    "                        bbox: str = None,\n",
    "                        site: str = None,\n",
    ") -> None:\n",
    "    #cycle through each layer to download\n",
    "    for layer in layers:\n",
    "        # construct a URL string \n",
    "        url = root+layer+bbox+width+height+srs\n",
    "        #download into a filename constructed as \"site_layer.jpg\"\n",
    "        urllib.request.urlretrieve(url, site+'_'+layer.split('=')[-1].split('&')[0]+'.jpg')\n",
    "\n",
    "\n",
    "def download_file_from_google_drive(id, destination):\n",
    "    URL = \"https://docs.google.com/uc?export=download\"\n",
    "\n",
    "    session = requests.Session()\n",
    "\n",
    "    response = session.get(URL, params = { 'id' : id }, stream = True)\n",
    "    token = get_confirm_token(response)\n",
    "\n",
    "    if token:\n",
    "        params = { 'id' : id, 'confirm' : token }\n",
    "        response = session.get(URL, params = params, stream = True)\n",
    "\n",
    "    save_response_content(response, destination)    \n",
    "\n",
    "\n",
    "def get_confirm_token(response):\n",
    "    for key, value in response.cookies.items():\n",
    "        if key.startswith('download_warning'):\n",
    "            return value\n",
    "\n",
    "    return None\n",
    "\n",
    "\n",
    "def save_response_content(response, destination):\n",
    "    \"\"\"\n",
    "    response = filename for input\n",
    "    destination = filename for output\n",
    "    \"\"\"    \n",
    "    CHUNK_SIZE = 32768\n",
    "\n",
    "    with open(destination, \"wb\") as f:\n",
    "        for chunk in response.iter_content(CHUNK_SIZE):\n",
    "            if chunk: # filter out keep-alive new chunks\n",
    "                f.write(chunk)\n",
    "                \n",
    "\n",
    "def unzip_nwpu(f):\n",
    "    \"\"\"\n",
    "    f = file to be unzipped\n",
    "    \"\"\"    \n",
    "    with zipfile.ZipFile(f, 'r') as zip_ref:\n",
    "        zip_ref.extractall()"
   ]
  },
  {
   "cell_type": "markdown",
   "metadata": {
    "ExecuteTime": {
     "end_time": "2020-07-06T07:31:29.457793Z",
     "start_time": "2020-07-06T07:31:29.455385Z"
    }
   },
   "source": [
    "## download test data (sentinel 2)"
   ]
  },
  {
   "cell_type": "code",
   "execution_count": null,
   "metadata": {
    "ExecuteTime": {
     "end_time": "2020-07-06T10:44:54.982190Z",
     "start_time": "2020-07-06T10:39:54.691866Z"
    }
   },
   "outputs": [],
   "source": [
    "#Lake Poopo, Bolivia\n",
    "site='poopo'\n",
    "layers = ['layers=s2cloudless&', 'layers=s2cloudless-2018&']\n",
    "bbox = 'bbox=-68.66848367000537,-19.687928531849003,-66.67924128546656,-17.8774477409051&'\n",
    "download_all_layers(site=site, layers=layers, bbox=bbox)\n",
    "\n",
    "#Lake Urmia, Iran\n",
    "site='urmia'\n",
    "layers = ['layers=s2cloudless&', 'layers=s2cloudless-2017&', 'layers=s2cloudless-2018&']\n",
    "bbox = 'bbox=44.587725529095295,36.86436828406643,46.230181583782795,38.50682433875393&'\n",
    "download_all_layers(site=site, layers=layers, bbox=bbox)\n",
    "\n",
    "#Lake Mead/ Lake Mojave, USA\n",
    "site='mead_mojave'\n",
    "layers = ['layers=s2cloudless&','layers=s2cloudless-2018&']\n",
    "bbox = 'bbox=-115.42507235769445,34.94273489926993,-113.78261630300695,36.58519095395743&'\n",
    "download_all_layers(site=site, layers=layers, bbox=bbox)\n",
    "\n",
    "#Aral Sea, Kazahkstan\n",
    "site='aral_sea'\n",
    "layers = ['layers=s2cloudless&','layers=s2cloudless-2018&']\n",
    "bbox = 'bbox=58.032853536637845,43.955292007325,61.317765646012845,47.2402041167&'\n",
    "download_all_layers(site=site, layers=layers, bbox=bbox)\n",
    "\n",
    "#Copais Lake, Greece\n",
    "site='copais'\n",
    "layers = ['layers=s2cloudless&', 'layers=s2cloudless-2017&', 'layers=s2cloudless-2018&']\n",
    "bbox = 'bbox=23.214268551013436,38.36067354565393,23.350911007068124,38.4633270490719&'\n",
    "download_all_layers(site=site, layers=layers, bbox=bbox)\n",
    "\n",
    "#Ramganga Lake, India\n",
    "site='ramganga'\n",
    "layers = ['layers=s2cloudless&','layers=s2cloudless-2018&']\n",
    "bbox = 'bbox=78.63716910452058,29.468167756293038,78.91045401662996,29.673474763128976&'\n",
    "download_all_layers(site=site, layers=layers, bbox=bbox)\n",
    "\n",
    "#Qinghai Lake, China\n",
    "site='qinghai'\n",
    "layers = ['layers=s2cloudless&','layers=s2cloudless-2018&']\n",
    "bbox = 'bbox=99.56471967977474,35.70094613663666,101.20168257039974,37.34340219132416&'\n",
    "download_all_layers(site=site, layers=layers, bbox=bbox)\n",
    "\n",
    "#Salton Sea, USA\n",
    "site='salton_sea'\n",
    "layers = ['layers=s2cloudless&','layers=s2cloudless-2018&']\n",
    "bbox = 'bbox=-116.21928854749297,32.903320741965295,-115.40080710218047,33.724548769309045&'\n",
    "download_all_layers(site=site, layers=layers, bbox=bbox)\n",
    "\n",
    "# Lake Faguibine, Mali\n",
    "site='faguibine'\n",
    "width = 'width=4082&'\n",
    "layers = ['layers=s2cloudless&','layers=s2cloudless-2018&']\n",
    "bbox = 'bbox=-4.656089323623854,14.959306189862815,-3.0191264329988536,16.601762244550315&'\n",
    "download_all_layers(site=site, width=width, layers=layers, bbox=bbox)\n",
    "\n",
    "# Mono Lake, USA\n",
    "site='mono'\n",
    "width = 'width=4082&'\n",
    "layers = ['layers=s2cloudless&','layers=s2cloudless-2018&']\n",
    "bbox = 'bbox=-119.22357779576633,37.797192162208084,-118.81433707311008,38.20780617587996&'\n",
    "download_all_layers(site=site, width=width, layers=layers, bbox=bbox)\n",
    "\n",
    "# Walker Lake, USA\n",
    "site='walker'\n",
    "width = 'width=4082&'\n",
    "layers = ['layers=s2cloudless&','layers=s2cloudless-2018&']\n",
    "bbox = 'bbox=-118.82841344222616,38.58649115903216,-118.62379308089804,38.791798165868094&'\n",
    "download_all_layers(site=site, width=width, layers=layers, bbox=bbox)\n",
    "\n",
    "# Lake Balaton, Hungary\n",
    "site='balaton'\n",
    "width = 'width=4096&'\n",
    "height = 'height=3084&'\n",
    "layers = ['layers=s2cloudless&', 'layers=s2cloudless-2017&', 'layers=s2cloudless-2018&']\n",
    "bbox = 'bbox=17.138306471163226,46.438781725159295,18.231446119600726,47.260009752503045&'\n",
    "download_all_layers(site=site, width=width, height=height, layers=layers, bbox=bbox)\n",
    "\n",
    "# Lake Koroneia, Greece\n",
    "site='koroneia'\n",
    "width = 'width=4096&'\n",
    "height = 'height=3084&'\n",
    "layers = ['layers=s2cloudless&', 'layers=s2cloudless-2017&', 'layers=s2cloudless-2018&']\n",
    "bbox = 'bbox=23.34167375183668,40.56321556296156,23.614958663946055,40.7685225697975&'\n",
    "download_all_layers(site=site, width=width, height=height, layers=layers, bbox=bbox)\n",
    "\n",
    "# Lake Salda, Turkey\n",
    "site='salda'\n",
    "width = 'width=4082&'\n",
    "height = 'height=4096&'\n",
    "layers = ['layers=s2cloudless&', 'layers=s2cloudless-2017&', 'layers=s2cloudless-2018&']\n",
    "bbox = 'bbox=29.6337346568769,37.49763563391751,29.736044837540963,37.60028913733548&'\n",
    "download_all_layers(site=site, width=width, height=height, layers=layers, bbox=bbox)\n",
    "\n",
    "# Lake Burdur, Turkey\n",
    "site='burdur'\n",
    "width = 'width=4096&'\n",
    "height = 'height=2312&'\n",
    "layers = ['layers=s2cloudless&', 'layers=s2cloudless-2017&', 'layers=s2cloudless-2018&']\n",
    "bbox = 'bbox=30.008970333642345,37.6345355820376,30.373579098290783,37.83984258887354&'\n",
    "download_all_layers(site=site, width=width, height=height, layers=layers, bbox=bbox)\n",
    "\n",
    "# Lake Mendocino, USA\n",
    "site='mendocino'\n",
    "width = 'width=4082&'\n",
    "height = 'height=4096&'\n",
    "layers = ['layers=s2cloudless&','layers=s2cloudless-2018&']\n",
    "bbox = 'bbox=-123.19613698824355,39.189371563341254,-123.14498189791152,39.24069831505024&'\n",
    "download_all_layers(site=site, width=width, height=height, layers=layers, bbox=bbox)\n",
    "\n",
    "# Elephant Butte Reservoir, USA\n",
    "site='elephant_butte'\n",
    "width = 'width=4082&'\n",
    "height = 'height=4096&'\n",
    "layers = ['layers=s2cloudless&','layers=s2cloudless-2018&']\n",
    "bbox = 'bbox=-107.23803910498334,33.14614806405013,-107.13572892431928,33.2488015674681&'\n",
    "download_all_layers(site=site, width=width, height=height, layers=layers, bbox=bbox)"
   ]
  },
  {
   "cell_type": "code",
   "execution_count": null,
   "metadata": {
    "ExecuteTime": {
     "end_time": "2020-07-06T10:44:55.008947Z",
     "start_time": "2020-07-06T10:44:54.987004Z"
    }
   },
   "outputs": [],
   "source": [
    "data_pth = Path('s2cloudless_imagery') / Path('data')\n",
    "data_pth.mkdir(parents=True, exist_ok=True)\n",
    "\n",
    "# cycle through each jpg image in the current directory\n",
    "try:\n",
    "    for f in glob.glob('*.jpg'):\n",
    "        #move to the new directory\n",
    "        if f.endswith('s2cloudless.jpg'): #2016 imagery\n",
    "            shutil.move(f, 's2cloudless_imagery'+os.sep+'data'+os.sep+f.replace('s2cloudless.jpg','s2cloudless-2016.jpg'))\n",
    "        else: #2017 or 2018 imagery\n",
    "            shutil.move(f, 's2cloudless_imagery'+os.sep+'data')\n",
    "except:\n",
    "    pass\n",
    "\n",
    "\n",
    "files = sorted(glob.glob('s2cloudless_imagery'+os.sep+'data'+os.sep+'*.jpg'))\n",
    "\n",
    "sites = ['aral_sea','balaton','burdur','copais','elephant_butte', \n",
    "         'faguibine','koroneia','mead_mojave','mendocino','mono',\n",
    "         'poopo','qinghai','ramganga','salda','urmia','walker']"
   ]
  },
  {
   "cell_type": "markdown",
   "metadata": {
    "ExecuteTime": {
     "end_time": "2020-07-06T10:36:45.070961Z",
     "start_time": "2020-07-06T10:36:35.700495Z"
    }
   },
   "source": [
    "## download training data (NWPU-RESISC45)"
   ]
  },
  {
   "cell_type": "code",
   "execution_count": null,
   "metadata": {
    "ExecuteTime": {
     "end_time": "2020-07-06T11:06:21.475253Z",
     "start_time": "2020-07-06T11:04:53.634055Z"
    }
   },
   "outputs": [],
   "source": [
    "destination = 'NWPU_images.zip'\n",
    "file_id = '14kkcuU6wd9UMvjaDrg3PNI-e_voCi8HL'\n",
    "\n",
    "download_file_from_google_drive(file_id, destination)\n",
    "\n",
    "unzip_nwpu(destination)\n",
    "\n",
    "os.rename('images','nwpu_images')\n",
    "\n",
    "subdirs = [x[0] for x in os.walk('nwpu_images')][1:]\n",
    "to_delete = [s for s in subdirs if 'lake' not in s]\n",
    "\n",
    "for k in to_delete:\n",
    "    shutil.rmtree(k, ignore_errors=True)\n",
    "\n",
    "os.rename('nwpu_images'+os.sep+'lake','nwpu_images'+os.sep+'data')    "
   ]
  },
  {
   "cell_type": "markdown",
   "metadata": {},
   "source": [
    "## working with labels"
   ]
  },
  {
   "cell_type": "code",
   "execution_count": null,
   "metadata": {
    "ExecuteTime": {
     "end_time": "2020-07-06T11:52:20.829872Z",
     "start_time": "2020-07-06T11:52:18.890471Z"
    }
   },
   "outputs": [],
   "source": [
    "labels_root = Path('s2cloudless_labels')\n",
    "all_labels_json =  labels_root / 'all_labels.json'\n",
    "data = json.load(open(all_labels_json))\n",
    "\n",
    "key_aral_2018 = 'aral_sea_s2cloudless-2018.jpg'\n",
    "\n",
    "data = data[key_aral_2018]\n",
    "\n",
    "x1 = data['regions']['0']['shape_attributes']['all_points_x']\n",
    "y1 = data['regions']['0']['shape_attributes']['all_points_y']\n",
    "\n",
    "x2 = data['regions']['1']['shape_attributes']['all_points_x']\n",
    "y2 = data['regions']['1']['shape_attributes']['all_points_y']\n",
    "\n",
    "x3 = data['regions']['2']['shape_attributes']['all_points_x']\n",
    "y3 = data['regions']['2']['shape_attributes']['all_points_y']\n",
    "\n",
    "x4 = data['regions']['3']['shape_attributes']['all_points_x']\n",
    "y4 = data['regions']['3']['shape_attributes']['all_points_y']\n",
    "\n",
    "\n",
    "with rasterio.open('s2cloudless_imagery'+os.sep+'data'+os.sep+key_aral_2018) as dataset:\n",
    "    rgb = dataset.read().T\n",
    "\n",
    "print(f\"rgb.shape: {rgb.shape}\")\n",
    "pyplt.imshow(rgb)\n",
    "# swap y and x\n",
    "pyplt.plot(y1,x1,'r')\n",
    "pyplt.plot(y2,x2,'k')\n",
    "pyplt.plot(y3,x3,'b')\n",
    "pyplt.plot(y4,x4,'m')"
   ]
  },
  {
   "cell_type": "code",
   "execution_count": null,
   "metadata": {
    "ExecuteTime": {
     "end_time": "2020-07-06T11:55:39.071109Z",
     "start_time": "2020-07-06T11:55:37.800876Z"
    }
   },
   "outputs": [],
   "source": [
    "# get the dimensions of the image\n",
    "nx, ny, nz = np.shape(rgb)\n",
    "print(f\"{nx:}, {ny:}, {nz:}\")\n",
    "\n",
    "mask = np.zeros((ny,nx))\n",
    "\n",
    "X = [[x1], [x2], [x3], [x4]]\n",
    "Y = [[y1], [y2], [y3], [y4]]\n",
    "\n",
    "for x,y in zip(Y,X):\n",
    "    # the ImageDraw.Draw().polygon function we will use to create the mask\n",
    "    # requires the x's and y's are interweaved, which is what the following\n",
    "    # one-liner does    \n",
    "    polygon = np.vstack((x,y)).reshape((-1,),order='F').tolist()\n",
    "\n",
    "    # create a mask image of the right size and infill according to the polygon\n",
    "    if nx>ny:\n",
    "        x,y = y,x \n",
    "        img = Image.new('L', (ny, nx), 0)\n",
    "    else:\n",
    "        img = Image.new('L', (nx, ny), 0)\n",
    "\n",
    "    ImageDraw.Draw(img).polygon(polygon, outline=1, fill=1)\n",
    "    # turn into a numpy array\n",
    "    m = np.array(img)\n",
    "    mask = mask + m\n",
    "    \n",
    "pyplt.imshow(mask)\n",
    "\n",
    "imsave(\"mask.jpg\", mask.astype('uint8'))"
   ]
  },
  {
   "cell_type": "code",
   "execution_count": null,
   "metadata": {
    "ExecuteTime": {
     "end_time": "2020-07-06T11:55:50.164642Z",
     "start_time": "2020-07-06T11:55:47.586176Z"
    }
   },
   "outputs": [],
   "source": [
    "with rasterio.open('mask.jpg') as dataset:\n",
    "     mask = np.flipud(np.rot90(dataset.read().T))\n",
    "\n",
    "plt.imshow(rgb)        \n",
    "plt.imshow(mask, cmap='gray', alpha=0.75)\n"
   ]
  },
  {
   "cell_type": "code",
   "execution_count": null,
   "metadata": {
    "ExecuteTime": {
     "end_time": "2020-07-06T12:10:33.002645Z",
     "start_time": "2020-07-06T12:10:32.889534Z"
    }
   },
   "outputs": [],
   "source": [
    "labels_root = Path('nwpu_labels')\n",
    "nwpu_json =  labels_root / 'nwpu_lakes_20samplesA.json'\n",
    "data = json.load(open(nwpu_json))\n",
    "\n",
    "key = 'lake_024.jpg'\n",
    "\n",
    "data = data[key]\n",
    "\n",
    "x1 = data['regions']['0']['shape_attributes']['all_points_x']\n",
    "y1 = data['regions']['0']['shape_attributes']['all_points_y']\n",
    "\n",
    "\n",
    "with rasterio.open('nwpu_images'+os.sep+'data'+os.sep+key) as dataset:\n",
    "    rgb = dataset.read().T\n",
    "\n",
    "#print(f\"rgb.shape: {rgb.shape}\")\n",
    "pyplt.imshow(rgb)\n",
    "# swap y and x\n",
    "pyplt.plot(y1,x1,'r')\n"
   ]
  }
 ],
 "metadata": {
  "kernelspec": {
   "display_name": "Python 3",
   "language": "python",
   "name": "python3"
  },
  "language_info": {
   "codemirror_mode": {
    "name": "ipython",
    "version": 3
   },
   "file_extension": ".py",
   "mimetype": "text/x-python",
   "name": "python",
   "nbconvert_exporter": "python",
   "pygments_lexer": "ipython3",
   "version": "3.8.1"
  },
  "varInspector": {
   "cols": {
    "lenName": 16,
    "lenType": 16,
    "lenVar": 40
   },
   "kernels_config": {
    "python": {
     "delete_cmd_postfix": "",
     "delete_cmd_prefix": "del ",
     "library": "var_list.py",
     "varRefreshCmd": "print(var_dic_list())"
    },
    "r": {
     "delete_cmd_postfix": ") ",
     "delete_cmd_prefix": "rm(",
     "library": "var_list.r",
     "varRefreshCmd": "cat(var_dic_list()) "
    }
   },
   "types_to_exclude": [
    "module",
    "function",
    "builtin_function_or_method",
    "instance",
    "_Feature"
   ],
   "window_display": false
  }
 },
 "nbformat": 4,
 "nbformat_minor": 4
}
